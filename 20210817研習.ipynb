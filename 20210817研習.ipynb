{
  "nbformat": 4,
  "nbformat_minor": 0,
  "metadata": {
    "colab": {
      "name": "20210817研習.ipynb",
      "provenance": [],
      "mount_file_id": "1zwnawQ-F0zAlZxLnwXvx6MyDPHMV_vWA",
      "authorship_tag": "ABX9TyOHmJXjzApkmTPOrrZ2vfH4",
      "include_colab_link": true
    },
    "kernelspec": {
      "name": "python3",
      "display_name": "Python 3"
    },
    "language_info": {
      "name": "python"
    }
  },
  "cells": [
    {
      "cell_type": "markdown",
      "metadata": {
        "id": "view-in-github",
        "colab_type": "text"
      },
      "source": [
        "<a href=\"https://colab.research.google.com/github/chiangyih/google-colab/blob/main/20210817%E7%A0%94%E7%BF%92.ipynb\" target=\"_parent\"><img src=\"https://colab.research.google.com/assets/colab-badge.svg\" alt=\"Open In Colab\"/></a>"
      ]
    },
    {
      "cell_type": "code",
      "metadata": {
        "id": "VoU1j3peiWpk"
      },
      "source": [
        "%lsmagic\n"
      ],
      "execution_count": null,
      "outputs": []
    },
    {
      "cell_type": "code",
      "metadata": {
        "colab": {
          "base_uri": "https://localhost:8080/"
        },
        "id": "h-OPGGICCP7p",
        "outputId": "f329fa36-2155-4135-d6f4-8d0fa8916543"
      },
      "source": [
        "%%writefile test.csv\n",
        "aaa,bbb,ccc\n",
        "111,222,333"
      ],
      "execution_count": null,
      "outputs": [
        {
          "output_type": "stream",
          "text": [
            "Writing test.csv\n"
          ],
          "name": "stdout"
        }
      ]
    },
    {
      "cell_type": "code",
      "metadata": {
        "id": "0oDEU8JOCZie"
      },
      "source": [
        "!cat test.csv"
      ],
      "execution_count": null,
      "outputs": []
    },
    {
      "cell_type": "code",
      "metadata": {
        "id": "KasZXp39Cs9o"
      },
      "source": [
        "%%writefile test.py\n",
        "print(\"Hello world!\")"
      ],
      "execution_count": null,
      "outputs": []
    },
    {
      "cell_type": "code",
      "metadata": {
        "colab": {
          "base_uri": "https://localhost:8080/"
        },
        "id": "u95cn8dNC38_",
        "outputId": "f4427b8f-0efc-444c-f9b5-7bee400f25b6"
      },
      "source": [
        "!cat test.py"
      ],
      "execution_count": null,
      "outputs": [
        {
          "output_type": "stream",
          "text": [
            "print(\"Hello world!\")"
          ],
          "name": "stdout"
        }
      ]
    },
    {
      "cell_type": "code",
      "metadata": {
        "colab": {
          "base_uri": "https://localhost:8080/"
        },
        "id": "qMQ7AE0aC-Sv",
        "outputId": "c028bb65-a0f3-4de5-e173-0fb152999f89"
      },
      "source": [
        "%run test.py"
      ],
      "execution_count": null,
      "outputs": [
        {
          "output_type": "stream",
          "text": [
            "Hello world!\n"
          ],
          "name": "stdout"
        }
      ]
    },
    {
      "cell_type": "code",
      "metadata": {
        "id": "MggGo-cADaMB"
      },
      "source": [
        "a=b=c=20\n",
        "%whos\n",
        "%who_ls\n"
      ],
      "execution_count": null,
      "outputs": []
    },
    {
      "cell_type": "markdown",
      "metadata": {
        "id": "xAEFSPRdEyQv"
      },
      "source": [
        "# 資料爬取"
      ]
    },
    {
      "cell_type": "code",
      "metadata": {
        "colab": {
          "base_uri": "https://localhost:8080/"
        },
        "id": "nA7ByIcKHBSS",
        "outputId": "6d02e3b7-a4c7-4e9b-aca7-4a221548861f"
      },
      "source": [
        "# 基礎爬蟲1\n",
        "import requests\n",
        "url=\"http://ehappy.tw/bsdemo1.htm\"\n",
        "html=requests.get(url)\n",
        "html.encoding=\"utf-8\"\n",
        "# html.text\n",
        "print(html.text)"
      ],
      "execution_count": null,
      "outputs": [
        {
          "output_type": "stream",
          "text": [
            "﻿<!doctype html>\r\n",
            "<html lang=\"zh\">\r\n",
            "  <head>\r\n",
            "    <meta charset=\"UTF-8\">\r\n",
            "    <title>我是網頁標題</title>\r\n",
            "  </head>\r\n",
            "  <body>\r\n",
            "    <h1 class=\"large\">我是標題</h1>\r\n",
            "    <div>\r\n",
            "      <p>我是段落</p>\r\n",
            "      <img src=\"https://www.w3.org/html/logo/downloads/HTML5_Logo_256.png\" alt=\"我是圖片\">\r\n",
            "      <a href=\"http://www.e-happy.com.tw\">我是超連結</a>\r\n",
            "    </div>\r\n",
            "  </body>\r\n",
            "</html>\n"
          ],
          "name": "stdout"
        }
      ]
    },
    {
      "cell_type": "code",
      "metadata": {
        "id": "3RVbyUzRJnxr",
        "colab": {
          "base_uri": "https://localhost:8080/"
        },
        "outputId": "7f68bbf5-aae2-4748-9553-d77db68eb166"
      },
      "source": [
        "from bs4 import BeautifulSoup\n",
        "sp=BeautifulSoup(html.text,'html.parser')\n",
        "print(sp.a.text)\n",
        "print(sp.div)\n",
        "print(sp.title.text)\n",
        "print(sp.p.text)\n"
      ],
      "execution_count": null,
      "outputs": [
        {
          "output_type": "stream",
          "text": [
            "我是超連結\n",
            "<div>\n",
            "<p>我是段落</p>\n",
            "<img alt=\"我是圖片\" src=\"https://www.w3.org/html/logo/downloads/HTML5_Logo_256.png\"/>\n",
            "<a href=\"http://www.e-happy.com.tw\">我是超連結</a>\n",
            "</div>\n",
            "我是網頁標題\n",
            "我是段落\n"
          ],
          "name": "stdout"
        }
      ]
    },
    {
      "cell_type": "code",
      "metadata": {
        "colab": {
          "base_uri": "https://localhost:8080/"
        },
        "id": "y5zd_jg4Ncyr",
        "outputId": "e1da9f64-88cb-4e8b-ee9e-c1a9f2f291bf"
      },
      "source": [
        "print(sp.a.get('href')) #取得網址方法1\n",
        "print(sp.a['href'])     #取得網址方法2\n",
        "print(sp.img.get('src'))\n",
        "print(sp.img['src'])"
      ],
      "execution_count": null,
      "outputs": [
        {
          "output_type": "stream",
          "text": [
            "http://www.e-happy.com.tw\n",
            "http://www.e-happy.com.tw\n",
            "https://www.w3.org/html/logo/downloads/HTML5_Logo_256.png\n",
            "https://www.w3.org/html/logo/downloads/HTML5_Logo_256.png\n"
          ],
          "name": "stdout"
        }
      ]
    },
    {
      "cell_type": "code",
      "metadata": {
        "colab": {
          "base_uri": "https://localhost:8080/"
        },
        "id": "43TOon0LOtM6",
        "outputId": "bb3dbc89-7322-46c1-86c5-ebed2513d8fe"
      },
      "source": [
        "#基礎爬蟲2\n",
        "import requests\n",
        "url=\"http://ehappy.tw/bsdemo2.htm\"\n",
        "html=requests.get(url)\n",
        "html.encoding=\"utf-8\"\n",
        "# html.text\n",
        "print(html.text)"
      ],
      "execution_count": null,
      "outputs": [
        {
          "output_type": "stream",
          "text": [
            "﻿<!doctype html>\r\n",
            "<html>\r\n",
            "  <head>\r\n",
            "    <meta charset=\"UTF-8\">\r\n",
            "    <title>我是網頁標題</title>\r\n",
            "  </head>\r\n",
            "  <body>\r\n",
            "    <h1 class=\"large\">我是標題</h1>\r\n",
            "    <div>\r\n",
            "      <p id=\"p1\" class=\"large\">我是段落一</p>\r\n",
            "      <p id=\"p2\" style=\"font-size:16pt\">我是段落二</p>\r\n",
            "      <img src=\"https://www.w3.org/html/logo/downloads/HTML5_Logo_256.png\" alt=\"HTML5 logo\">\r\n",
            "      <ul>\r\n",
            "        <li class=\"odd\"><a href=\"http://www.ehappy.tw\">我是超連結1</a></li>\r\n",
            "        <li class=\"even\"><a href=\"http://www.e-happy.com.tw\">我是超連結2</a></li>\r\n",
            "      </ul>\r\n",
            "    </div>\r\n",
            "  </body>\r\n",
            "</html>\n"
          ],
          "name": "stdout"
        }
      ]
    },
    {
      "cell_type": "code",
      "metadata": {
        "colab": {
          "base_uri": "https://localhost:8080/"
        },
        "id": "jOFtnPkRPDbR",
        "outputId": "bcfba7e2-5f5e-425a-e354-6bc636317965"
      },
      "source": [
        "#拆解HTML資料\n",
        "from bs4 import BeautifulSoup\n",
        "sp=BeautifulSoup(html.text,'html.parser')\n",
        "print(sp.find('p',id='p2').text)\n",
        "print(sp.find('li',class_='even').a.text)\n",
        "datats=sp.find_all('p')\n",
        "for data in datats:\n",
        "    print(data.text)\n",
        "datas2=sp.find_all('a')\n",
        "for data in datas2:\n",
        "    print(data.get('href'))"
      ],
      "execution_count": null,
      "outputs": [
        {
          "output_type": "stream",
          "text": [
            "我是段落二\n",
            "我是超連結2\n",
            "我是段落一\n",
            "我是段落二\n",
            "http://www.ehappy.tw\n",
            "http://www.e-happy.com.tw\n"
          ],
          "name": "stdout"
        }
      ]
    },
    {
      "cell_type": "code",
      "metadata": {
        "id": "W-FI-is6ntmm"
      },
      "source": [
        "#基礎爬蟲-ptt美食版\n",
        "import requests\n",
        "from bs4 import BeautifulSoup\n",
        "\n",
        "url=\"https://www.ptt.cc/bbs/Food/index.html\"\n",
        "\n",
        "for i in range(5):\n",
        "    print(\"第{}頁\".format(i+1))\n",
        "    html=requests.get(url)\n",
        "    html.encoding=\"utf-8\"\n",
        "    sp=BeautifulSoup(html.text,'html.parser')\n",
        "    datas=sp.find_all('div',class_=\"r-ent\")\n",
        "\n",
        "    for data in datas:\n",
        "        print(data.find('div',class_='date').text,end='')\n",
        "        print(\"https://www.ptt.cc/\" + data.a.get('href'),end='')\n",
        "        print(data.a.text)\n",
        "        \n",
        "    url=\"https://www.ptt.cc\" + sp.find_all('a',class_='btn wide')[1].get('href')\n",
        "\n",
        "\n",
        "    "
      ],
      "execution_count": null,
      "outputs": []
    },
    {
      "cell_type": "code",
      "metadata": {
        "id": "6Niva72d0tIW"
      },
      "source": [
        "#基礎爬蟲-ptt八卦版\n",
        "import requests\n",
        "from bs4 import BeautifulSoup\n",
        "\n",
        "url=\"https://www.ptt.cc/bbs/Gossiping/index.html\"\n",
        "\n",
        "header={\"cookie\":\"over18=1\"} #設定cookie值\n",
        "\n",
        "\n",
        "for i in range(2):\n",
        "    print(\"第{}頁\".format(i+1))\n",
        "    html=requests.get(url,headers=header) #url後面帶入cookie\n",
        "    html.encoding=\"utf-8\"\n",
        "    sp=BeautifulSoup(html.text,'html.parser')\n",
        "    datas=sp.find_all('div',class_=\"r-ent\")\n",
        "\n",
        "    for data in datas:\n",
        "        print(data.find('div',class_='date').text,end='')\n",
        "        print(\"https://www.ptt.cc/\" + data.a.get('href'),end='')\n",
        "        print(data.a.text)\n",
        "        \n",
        "    \n"
      ],
      "execution_count": null,
      "outputs": []
    },
    {
      "cell_type": "code",
      "metadata": {
        "id": "HCmza0SYCFZ0"
      },
      "source": [
        "with open('test.txt','w') as f:\n",
        "    f.write('hello world')"
      ],
      "execution_count": null,
      "outputs": []
    },
    {
      "cell_type": "code",
      "metadata": {
        "id": "_UMNZypA5ZcE"
      },
      "source": [
        "#基礎爬蟲-技術高中基本資料\n",
        "import requests\n",
        "from bs4 import BeautifulSoup\n",
        "for i in range(1,20):\n",
        "    url=\"https://highschool.yjvs.chc.edu.tw/search/index.php?no=2&page=\"+str(i)\n",
        "    html=requests.get(url)\n",
        "    html.encoding=\"utf-8\"\n",
        "\n",
        "    sp=BeautifulSoup(html.text,'html.parser')\n",
        "    datas=sp.find('div',id='school-list').find_all('table')\n",
        "    for data in datas:\n",
        "        school=data.find_all('li')\n",
        "        print(school[0].text,school[1].text,school[2].text,school[3].text)\n"
      ],
      "execution_count": null,
      "outputs": []
    },
    {
      "cell_type": "code",
      "metadata": {
        "id": "SgnSZxGzCubH"
      },
      "source": [
        "#基礎爬蟲-技術高中基本資料並寫入檔案(school.csv)\n",
        "import requests\n",
        "from bs4 import BeautifulSoup\n",
        "with open('school.csv','w') as f:\n",
        "    f.write('學校,住址,電話,網址\\n')\n",
        "\n",
        "for i in range(1,20):\n",
        "    url=\"https://highschool.yjvs.chc.edu.tw/search/index.php?no=2&page=\"+str(i)\n",
        "    html=requests.get(url)\n",
        "    html.encoding=\"utf-8\"\n",
        "\n",
        "    sp=BeautifulSoup(html.text,'html.parser')\n",
        "    datas=sp.find('div',id='school-list').find_all('table')\n",
        "    for data in datas:\n",
        "        school=data.find_all('li')\n",
        "        # print(school[0].text,school[1].text,school[2].text,school[3].text)\n",
        "        with open('school.csv','a') as f:\n",
        "            f.write(\"{},{},{},{}\\n\".format(school[0].text,school[1].text,school[2].text,school[3].text))"
      ],
      "execution_count": null,
      "outputs": []
    },
    {
      "cell_type": "code",
      "metadata": {
        "id": "imSZ8IqIDjC8"
      },
      "source": [
        "!cat -n school.csv"
      ],
      "execution_count": null,
      "outputs": []
    },
    {
      "cell_type": "code",
      "metadata": {
        "colab": {
          "base_uri": "https://localhost:8080/"
        },
        "id": "tP-ohkjiLBXK",
        "outputId": "352afc55-4e37-4113-a987-1773653d989d"
      },
      "source": [
        "#取得檔名\n",
        "import requests\n",
        "from bs4 import BeautifulSoup\n",
        "url=\"https://www.irasutoya.com/2021/01/blog-post_64.html\"\n",
        "html=requests.get(url)\n",
        "html.encoding=\"utf-8\"\n",
        "\n",
        "sp=BeautifulSoup(html.text,'html.parser')\n",
        "datas=sp.find('div',class_=\"separator\").find_all('a')\n",
        "for data in datas:\n",
        "    print(data.get('href').split('/')[-1])"
      ],
      "execution_count": null,
      "outputs": [
        {
          "output_type": "stream",
          "text": [
            "animal_marmot_white_brown.png\n",
            "animal_marmot_white_black.png\n",
            "animal_marmot_white.png\n",
            "animal_marmot_mike.png\n",
            "animal_marmot_brown.png\n",
            "animal_marmot_black.png\n"
          ],
          "name": "stdout"
        }
      ]
    },
    {
      "cell_type": "code",
      "metadata": {
        "colab": {
          "base_uri": "https://localhost:8080/"
        },
        "id": "wVzbgyEhHXeA",
        "outputId": "81713e7a-3661-489c-fe75-fce6b425cac1"
      },
      "source": [
        "#下載圖片\n",
        "\n",
        "import requests\n",
        "from bs4 import BeautifulSoup\n",
        "url=\"https://www.irasutoya.com/2021/01/blog-post_64.html\"\n",
        "html=requests.get(url)\n",
        "html.encoding=\"utf-8\"\n",
        "\n",
        "sp=BeautifulSoup(html.text,'html.parser')\n",
        "datas=sp.find('div',class_=\"separator\").find_all('a')\n",
        "for data in datas:\n",
        "    print(data.get('href'))\n",
        "    imgfile=requests.get(data.get('href'))\n",
        "    imgname=data.get('href').split('/')[-1]\n",
        "    with open(imgname,'wb') as f:  #因為是圖片檔(二進位檔)，所以存檔屬性多一個b(wb)\n",
        "        f.write(imgfile.content)   #因為是圖片檔(二進位檔)所以格式改為content\n",
        "    with open('/content/drive/MyDrive/共用區/' + imgname,'wb') as f:  #存到自己的google drive\n",
        "        f.write(imgfile.content)          "
      ],
      "execution_count": null,
      "outputs": [
        {
          "output_type": "stream",
          "text": [
            "https://1.bp.blogspot.com/-yWLb8tx9t1k/YAo8iibYAYI/AAAAAAABdSs/thfQn1lEbScHxGKbyQHCsvSlcoKF9e3pQCNcBGAsYHQ/s656/animal_marmot_white_brown.png\n",
            "https://1.bp.blogspot.com/-liRpofZBLqw/YAo8iWTWw3I/AAAAAAABdSo/2GYSvyXDeZk7DSTEHaWc3gsL2Xp5d9miwCNcBGAsYHQ/s656/animal_marmot_white_black.png\n",
            "https://1.bp.blogspot.com/-lp9kK9ctJgE/YAo8iUImNDI/AAAAAAABdSk/NRL3cXxVUWwpFwRghF7O8MI6ITS54KVgACNcBGAsYHQ/s656/animal_marmot_white.png\n",
            "https://1.bp.blogspot.com/-ZSNbc8tNIg4/YAo8hm0cAlI/AAAAAAABdSg/kIIXliuswJcqa5FEYCNeX7fEqLa3WdE3ACNcBGAsYHQ/s656/animal_marmot_mike.png\n",
            "https://1.bp.blogspot.com/-1s5mU8my4KY/YAo8hpiMUBI/AAAAAAABdSY/7MLeTYlkohUhUAzeHv5CbGSahycdC9FPwCNcBGAsYHQ/s656/animal_marmot_brown.png\n",
            "https://1.bp.blogspot.com/-35g1WmD5B1U/YAo8hpY0mpI/AAAAAAABdSc/vmreXdBYAtYBkFi43o_YnMrGrp1ObUBLACNcBGAsYHQ/s656/animal_marmot_black.png\n"
          ],
          "name": "stdout"
        }
      ]
    },
    {
      "cell_type": "code",
      "metadata": {
        "colab": {
          "base_uri": "https://localhost:8080/"
        },
        "id": "gH7W2g3DK2mI",
        "outputId": "66546b95-760b-4774-e0fd-3654dcfe9bba"
      },
      "source": [
        "#非同步載入網站(ajx)\n",
        "import requests\n",
        "import json\n",
        "url='https://covid19dashboard.cdc.gov.tw/dash3'\n",
        "html=requests.get(url)\n",
        "print(html.text)\n",
        "\n",
        "datas=json.loads(html.text)\n",
        "#print(datas['0']['確診'])\n",
        "for i in datas['0']:\n",
        "    print(datas['0'][i])\n",
        "\n"
      ],
      "execution_count": null,
      "outputs": [
        {
          "output_type": "stream",
          "text": [
            "{\"0\":{\"確診\":\"15,880\",\"死亡\":821,\"送驗\":\"2,382,988\",\"排除\":\"2,365,884\",\"昨日確診\":10,\"昨日排除\":\"22,216\",\"昨日送驗\":\"22,216\"}}\n",
            "15,880\n",
            "821\n",
            "2,382,988\n",
            "2,365,884\n",
            "10\n",
            "22,216\n",
            "22,216\n"
          ],
          "name": "stdout"
        }
      ]
    }
  ]
}